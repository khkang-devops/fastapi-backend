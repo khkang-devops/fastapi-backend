{
 "cells": [
  {
   "cell_type": "code",
   "execution_count": 1,
   "metadata": {},
   "outputs": [],
   "source": [
    "from base64 import b64encode, b64decode\n",
    "from Crypto.Cipher import AES\n",
    "from Crypto.Random import get_random_bytes"
   ]
  },
  {
   "cell_type": "code",
   "execution_count": 2,
   "metadata": {},
   "outputs": [
    {
     "name": "stdout",
     "output_type": "stream",
     "text": [
      "b'\\x1a\\xa5\\xc0\\x96\\xe3\\x91\\xac\\xe7\\x97_\\xb6\\x06\\xeb\\xca\\xee.'\n",
      "b'\\x8c\\x8c\\x88\\xdd\\xfd\\x822c\\xa9\\xc1\\xf4\\xc6'\n"
     ]
    }
   ],
   "source": [
    "raw = \"passwd\"\n",
    "key = get_random_bytes(16)\n",
    "nonce = get_random_bytes(12)\n",
    "\n",
    "print(key)\n",
    "print(nonce)"
   ]
  },
  {
   "cell_type": "code",
   "execution_count": 3,
   "metadata": {},
   "outputs": [
    {
     "name": "stdout",
     "output_type": "stream",
     "text": [
      "b'~|\\tt\\x87\\x86\\xb4]GHc\\xfc\\x06@x\\xf3'\n",
      "1fRX2JHW\n"
     ]
    }
   ],
   "source": [
    "# 암호화\n",
    "cipher = AES.new(key, AES.MODE_GCM, nonce)\n",
    "cipher.update(\"header\".encode(\"utf-8\"))\n",
    "enc, tag = cipher.encrypt_and_digest(raw.encode(\"utf-8\"))\n",
    "enc = b64encode(enc)\n",
    "enc = enc.decode('ascii')\n",
    "print(tag)\n",
    "print(enc)"
   ]
  },
  {
   "cell_type": "code",
   "execution_count": 4,
   "metadata": {},
   "outputs": [
    {
     "name": "stdout",
     "output_type": "stream",
     "text": [
      "passwd\n"
     ]
    }
   ],
   "source": [
    "# 복호화\n",
    "cipher = AES.new(key, AES.MODE_GCM, nonce)\n",
    "cipher.update(\"header\".encode(\"utf-8\"))\n",
    "dec = b64decode(enc.encode('ascii'))\n",
    "dec = cipher.decrypt_and_verify(dec, tag)\n",
    "print(dec.decode('utf-8'))"
   ]
  }
 ],
 "metadata": {
  "kernelspec": {
   "display_name": "fastapi",
   "language": "python",
   "name": "python3"
  },
  "language_info": {
   "codemirror_mode": {
    "name": "ipython",
    "version": 3
   },
   "file_extension": ".py",
   "mimetype": "text/x-python",
   "name": "python",
   "nbconvert_exporter": "python",
   "pygments_lexer": "ipython3",
   "version": "3.10.4"
  }
 },
 "nbformat": 4,
 "nbformat_minor": 2
}
